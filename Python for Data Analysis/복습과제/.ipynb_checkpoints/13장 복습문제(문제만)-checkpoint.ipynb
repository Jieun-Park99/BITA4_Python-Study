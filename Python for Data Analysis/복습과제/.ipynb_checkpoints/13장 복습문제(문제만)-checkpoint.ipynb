{
 "cells": [
  {
   "cell_type": "markdown",
   "metadata": {},
   "source": [
    "# 13주차 복습문제"
   ]
  },
  {
   "cell_type": "markdown",
   "metadata": {},
   "source": [
    "# 1번"
   ]
  },
  {
   "cell_type": "markdown",
   "metadata": {},
   "source": [
    "## 1-1 파이썬 동호회원 9명은 각자 물섭취빈도, 손세척빈도, 마스크착용빈도, 스마트폰사용빈도, 운동빈도가 1~5사이로 랜덤하다. 각 항목을 컬럼으로, 회원명을 인덱스로, 1-5사이의 랜덤한 값을 value로 하는 데이터프레임을 작성하라  \n",
    " seed를 반드시 지정하시5"
   ]
  },
  {
   "cell_type": "code",
   "execution_count": 146,
   "metadata": {},
   "outputs": [
    {
     "data": {
      "text/html": [
       "<div>\n",
       "<style scoped>\n",
       "    .dataframe tbody tr th:only-of-type {\n",
       "        vertical-align: middle;\n",
       "    }\n",
       "\n",
       "    .dataframe tbody tr th {\n",
       "        vertical-align: top;\n",
       "    }\n",
       "\n",
       "    .dataframe thead th {\n",
       "        text-align: right;\n",
       "    }\n",
       "</style>\n",
       "<table border=\"1\" class=\"dataframe\">\n",
       "  <thead>\n",
       "    <tr style=\"text-align: right;\">\n",
       "      <th></th>\n",
       "      <th>물섭취빈도</th>\n",
       "      <th>손세척빈도</th>\n",
       "      <th>마스크착용빈도</th>\n",
       "      <th>스마트폰사용빈도</th>\n",
       "      <th>운동빈도</th>\n",
       "    </tr>\n",
       "  </thead>\n",
       "  <tbody>\n",
       "    <tr>\n",
       "      <td>재훈</td>\n",
       "      <td>1</td>\n",
       "      <td>1</td>\n",
       "      <td>1</td>\n",
       "      <td>2</td>\n",
       "      <td>2</td>\n",
       "    </tr>\n",
       "    <tr>\n",
       "      <td>간선</td>\n",
       "      <td>1</td>\n",
       "      <td>3</td>\n",
       "      <td>4</td>\n",
       "      <td>3</td>\n",
       "      <td>4</td>\n",
       "    </tr>\n",
       "    <tr>\n",
       "      <td>은줘</td>\n",
       "      <td>4</td>\n",
       "      <td>2</td>\n",
       "      <td>1</td>\n",
       "      <td>3</td>\n",
       "      <td>1</td>\n",
       "    </tr>\n",
       "    <tr>\n",
       "      <td>석회</td>\n",
       "      <td>4</td>\n",
       "      <td>3</td>\n",
       "      <td>4</td>\n",
       "      <td>4</td>\n",
       "      <td>1</td>\n",
       "    </tr>\n",
       "    <tr>\n",
       "      <td>방석</td>\n",
       "      <td>4</td>\n",
       "      <td>3</td>\n",
       "      <td>1</td>\n",
       "      <td>1</td>\n",
       "      <td>4</td>\n",
       "    </tr>\n",
       "    <tr>\n",
       "      <td>변yo한</td>\n",
       "      <td>4</td>\n",
       "      <td>3</td>\n",
       "      <td>3</td>\n",
       "      <td>1</td>\n",
       "      <td>4</td>\n",
       "    </tr>\n",
       "    <tr>\n",
       "      <td>T없2맑음</td>\n",
       "      <td>1</td>\n",
       "      <td>3</td>\n",
       "      <td>1</td>\n",
       "      <td>4</td>\n",
       "      <td>4</td>\n",
       "    </tr>\n",
       "    <tr>\n",
       "      <td>아이깨끗해</td>\n",
       "      <td>3</td>\n",
       "      <td>2</td>\n",
       "      <td>4</td>\n",
       "      <td>2</td>\n",
       "      <td>4</td>\n",
       "    </tr>\n",
       "    <tr>\n",
       "      <td>과민</td>\n",
       "      <td>3</td>\n",
       "      <td>1</td>\n",
       "      <td>2</td>\n",
       "      <td>2</td>\n",
       "      <td>2</td>\n",
       "    </tr>\n",
       "  </tbody>\n",
       "</table>\n",
       "</div>"
      ],
      "text/plain": [
       "       물섭취빈도  손세척빈도  마스크착용빈도  스마트폰사용빈도  운동빈도\n",
       "재훈         1      1        1         2     2\n",
       "간선         1      3        4         3     4\n",
       "은줘         4      2        1         3     1\n",
       "석회         4      3        4         4     1\n",
       "방석         4      3        1         1     4\n",
       "변yo한       4      3        3         1     4\n",
       "T없2맑음      1      3        1         4     4\n",
       "아이깨끗해      3      2        4         2     4\n",
       "과민         3      1        2         2     2"
      ]
     },
     "execution_count": 146,
     "metadata": {},
     "output_type": "execute_result"
    }
   ],
   "source": [
    "import pandas as pd\n",
    "import numpy as np\n",
    "\n",
    "index = ['재훈','간선','은줘','석회','방석','변yo한','T없2맑음','아이깨끗해','과민'] \n",
    "np.random.seed(100)\n",
    "df = pd.DataFrame({'물섭취빈도':np.random.randint(1,5,size=len(index)),\n",
    "                  '손세척빈도':np.random.randint(1,5,size=len(index)),\n",
    "                  '마스크착용빈도':np.random.randint(1,5,size=len(index)),\n",
    "                  '스마트폰사용빈도':np.random.randint(1,5,size=len(index)),\n",
    "                  '운동빈도':np.random.randint(1,5,size=len(index))},\n",
    "                 index = index)\n",
    "df"
   ]
  },
  {
   "cell_type": "markdown",
   "metadata": {},
   "source": [
    "## 1-2 corona모듈에 있는 make_resistance 함수는 코로나 저항력을 계산하는 함수이다. 작성된 데이터에 이 함수를 적용하여 파이썬 동호회원 9인의 코로나저항력을 계산하시오."
   ]
  },
  {
   "cell_type": "code",
   "execution_count": 147,
   "metadata": {},
   "outputs": [],
   "source": [
    "import corona"
   ]
  },
  {
   "cell_type": "code",
   "execution_count": 148,
   "metadata": {},
   "outputs": [],
   "source": [
    "corona.make_resistance??"
   ]
  },
  {
   "cell_type": "code",
   "execution_count": 149,
   "metadata": {},
   "outputs": [
    {
     "data": {
      "text/html": [
       "<div>\n",
       "<style scoped>\n",
       "    .dataframe tbody tr th:only-of-type {\n",
       "        vertical-align: middle;\n",
       "    }\n",
       "\n",
       "    .dataframe tbody tr th {\n",
       "        vertical-align: top;\n",
       "    }\n",
       "\n",
       "    .dataframe thead th {\n",
       "        text-align: right;\n",
       "    }\n",
       "</style>\n",
       "<table border=\"1\" class=\"dataframe\">\n",
       "  <thead>\n",
       "    <tr style=\"text-align: right;\">\n",
       "      <th></th>\n",
       "      <th>물섭취빈도</th>\n",
       "      <th>손세척빈도</th>\n",
       "      <th>마스크착용빈도</th>\n",
       "      <th>스마트폰사용빈도</th>\n",
       "      <th>운동빈도</th>\n",
       "      <th>코로나저항력</th>\n",
       "    </tr>\n",
       "  </thead>\n",
       "  <tbody>\n",
       "    <tr>\n",
       "      <td>재훈</td>\n",
       "      <td>1</td>\n",
       "      <td>1</td>\n",
       "      <td>1</td>\n",
       "      <td>2</td>\n",
       "      <td>2</td>\n",
       "      <td>12.3</td>\n",
       "    </tr>\n",
       "    <tr>\n",
       "      <td>간선</td>\n",
       "      <td>1</td>\n",
       "      <td>3</td>\n",
       "      <td>4</td>\n",
       "      <td>3</td>\n",
       "      <td>4</td>\n",
       "      <td>30.2</td>\n",
       "    </tr>\n",
       "    <tr>\n",
       "      <td>은줘</td>\n",
       "      <td>4</td>\n",
       "      <td>2</td>\n",
       "      <td>1</td>\n",
       "      <td>3</td>\n",
       "      <td>1</td>\n",
       "      <td>17.7</td>\n",
       "    </tr>\n",
       "    <tr>\n",
       "      <td>석회</td>\n",
       "      <td>4</td>\n",
       "      <td>3</td>\n",
       "      <td>4</td>\n",
       "      <td>4</td>\n",
       "      <td>1</td>\n",
       "      <td>29.6</td>\n",
       "    </tr>\n",
       "    <tr>\n",
       "      <td>방석</td>\n",
       "      <td>4</td>\n",
       "      <td>3</td>\n",
       "      <td>1</td>\n",
       "      <td>1</td>\n",
       "      <td>4</td>\n",
       "      <td>23.9</td>\n",
       "    </tr>\n",
       "    <tr>\n",
       "      <td>변yo한</td>\n",
       "      <td>4</td>\n",
       "      <td>3</td>\n",
       "      <td>3</td>\n",
       "      <td>1</td>\n",
       "      <td>4</td>\n",
       "      <td>29.9</td>\n",
       "    </tr>\n",
       "    <tr>\n",
       "      <td>T없2맑음</td>\n",
       "      <td>1</td>\n",
       "      <td>3</td>\n",
       "      <td>1</td>\n",
       "      <td>4</td>\n",
       "      <td>4</td>\n",
       "      <td>22.1</td>\n",
       "    </tr>\n",
       "    <tr>\n",
       "      <td>아이깨끗해</td>\n",
       "      <td>3</td>\n",
       "      <td>2</td>\n",
       "      <td>4</td>\n",
       "      <td>2</td>\n",
       "      <td>4</td>\n",
       "      <td>30.3</td>\n",
       "    </tr>\n",
       "    <tr>\n",
       "      <td>과민</td>\n",
       "      <td>3</td>\n",
       "      <td>1</td>\n",
       "      <td>2</td>\n",
       "      <td>2</td>\n",
       "      <td>2</td>\n",
       "      <td>18.3</td>\n",
       "    </tr>\n",
       "  </tbody>\n",
       "</table>\n",
       "</div>"
      ],
      "text/plain": [
       "       물섭취빈도  손세척빈도  마스크착용빈도  스마트폰사용빈도  운동빈도  코로나저항력\n",
       "재훈         1      1        1         2     2    12.3\n",
       "간선         1      3        4         3     4    30.2\n",
       "은줘         4      2        1         3     1    17.7\n",
       "석회         4      3        4         4     1    29.6\n",
       "방석         4      3        1         1     4    23.9\n",
       "변yo한       4      3        3         1     4    29.9\n",
       "T없2맑음      1      3        1         4     4    22.1\n",
       "아이깨끗해      3      2        4         2     4    30.3\n",
       "과민         3      1        2         2     2    18.3"
      ]
     },
     "execution_count": 149,
     "metadata": {},
     "output_type": "execute_result"
    }
   ],
   "source": [
    "dat = corona.make_resistance(df)\n",
    "dat"
   ]
  },
  {
   "cell_type": "markdown",
   "metadata": {},
   "source": [
    "## 1-3 dematrices 함수를 통해 코로나저항력을 종속변수 y, 나머지 변수를 X에 저장하고, numpy.linalg .lstsq알고리즘을 통한 회귀분석을 실행하여 도출되는 coef값을 Series형태로 출력하시오\n",
    "### 독립변수 입력시 intercept는 꼭 제거하시길 바라오!"
   ]
  },
  {
   "cell_type": "code",
   "execution_count": 150,
   "metadata": {},
   "outputs": [],
   "source": [
    "import patsy\n",
    "y, X = patsy.dmatrices('코로나저항력 ~ 물섭취빈도+손세척빈도+마스크착용빈도+스마트폰사용빈도+운동빈도+0', dat)"
   ]
  },
  {
   "cell_type": "code",
   "execution_count": 151,
   "metadata": {},
   "outputs": [
    {
     "name": "stderr",
     "output_type": "stream",
     "text": [
      "C:\\Users\\danan\\Anaconda3\\lib\\site-packages\\ipykernel_launcher.py:1: FutureWarning: `rcond` parameter will change to the default of machine precision times ``max(M, N)`` where M and N are the input matrix dimensions.\n",
      "To use the future default and silence this warning we advise to pass `rcond=None`, to keep using the old, explicitly pass `rcond=-1`.\n",
      "  \"\"\"Entry point for launching an IPython kernel.\n"
     ]
    },
    {
     "data": {
      "text/plain": [
       "물섭취빈도       1.5\n",
       "손세척빈도       2.0\n",
       "마스크착용빈도     3.0\n",
       "스마트폰사용빈도    0.9\n",
       "운동빈도        2.0\n",
       "dtype: float64"
      ]
     },
     "execution_count": 151,
     "metadata": {},
     "output_type": "execute_result"
    }
   ],
   "source": [
    "coef, resid, _, _ = np.linalg.lstsq(X,y)\n",
    "coef = pd.Series(coef.squeeze(), index=X.design_info.column_names)\n",
    "coef"
   ]
  },
  {
   "cell_type": "markdown",
   "metadata": {},
   "source": [
    "## 1-4 코로나 저항력을 가장 높이는 행동은 무었인가? "
   ]
  },
  {
   "cell_type": "markdown",
   "metadata": {},
   "source": [
    "마스크착용빈도"
   ]
  },
  {
   "cell_type": "markdown",
   "metadata": {},
   "source": [
    "# 2번"
   ]
  },
  {
   "cell_type": "markdown",
   "metadata": {},
   "source": [
    "## 2-1 X에 intercept를 추가하여 다시 X에 저장하시오"
   ]
  },
  {
   "cell_type": "code",
   "execution_count": 181,
   "metadata": {},
   "outputs": [],
   "source": [
    "import statsmodels.api as sm\n",
    "import statsmodels.formula.api as smf\n",
    "np.random.seed(12345)\n",
    "N = 100\n",
    "x = np.linspace(0,10,100)\n",
    "X = np.column_stack((x, x**2))\n",
    "beta = np.array([1,0.1,10])\n",
    "e = np.random.normal(size=N)"
   ]
  },
  {
   "cell_type": "code",
   "execution_count": 182,
   "metadata": {},
   "outputs": [],
   "source": [
    "X = sm.add_constant(X)"
   ]
  },
  {
   "cell_type": "markdown",
   "metadata": {},
   "source": [
    "## 2-2 y와 X에 대해서 최소자승 선형회귀 모델을 model에 저장하고 해당 모델의 분석 결과를 출력하시오"
   ]
  },
  {
   "cell_type": "code",
   "execution_count": 183,
   "metadata": {},
   "outputs": [],
   "source": [
    "y = np.dot(X, beta) + e"
   ]
  },
  {
   "cell_type": "code",
   "execution_count": 184,
   "metadata": {},
   "outputs": [],
   "source": [
    "model = sm.OLS(y, X)"
   ]
  },
  {
   "cell_type": "code",
   "execution_count": 185,
   "metadata": {},
   "outputs": [],
   "source": [
    "results = model.fit()"
   ]
  },
  {
   "cell_type": "code",
   "execution_count": 186,
   "metadata": {},
   "outputs": [
    {
     "name": "stdout",
     "output_type": "stream",
     "text": [
      "                            OLS Regression Results                            \n",
      "==============================================================================\n",
      "Dep. Variable:                      y   R-squared:                       1.000\n",
      "Model:                            OLS   Adj. R-squared:                  1.000\n",
      "Method:                 Least Squares   F-statistic:                 4.438e+06\n",
      "Date:                Thu, 12 Mar 2020   Prob (F-statistic):          2.35e-241\n",
      "Time:                        19:42:48   Log-Likelihood:                -141.64\n",
      "No. Observations:                 100   AIC:                             289.3\n",
      "Df Residuals:                      97   BIC:                             297.1\n",
      "Df Model:                           2                                         \n",
      "Covariance Type:            nonrobust                                         \n",
      "==============================================================================\n",
      "                 coef    std err          t      P>|t|      [0.025      0.975]\n",
      "------------------------------------------------------------------------------\n",
      "const          1.5711      0.298      5.275      0.000       0.980       2.162\n",
      "x1            -0.2495      0.138     -1.812      0.073      -0.523       0.024\n",
      "x2            10.0361      0.013    753.456      0.000      10.010      10.063\n",
      "==============================================================================\n",
      "Omnibus:                        0.602   Durbin-Watson:                   1.891\n",
      "Prob(Omnibus):                  0.740   Jarque-Bera (JB):                0.298\n",
      "Skew:                           0.119   Prob(JB):                        0.861\n",
      "Kurtosis:                       3.124   Cond. No.                         144.\n",
      "==============================================================================\n",
      "\n",
      "Warnings:\n",
      "[1] Standard Errors assume that the covariance matrix of the errors is correctly specified.\n"
     ]
    }
   ],
   "source": [
    "print(results.summary())"
   ]
  },
  {
   "cell_type": "markdown",
   "metadata": {},
   "source": [
    "## 2-3  X와 y를 하나의 데이터 프레임(이름은 data)으로 만들고 열 이름은 c1, c2, c3, y로 정하라, 아울러 상위 다섯 행을 출력하라"
   ]
  },
  {
   "cell_type": "code",
   "execution_count": 187,
   "metadata": {},
   "outputs": [
    {
     "data": {
      "text/html": [
       "<div>\n",
       "<style scoped>\n",
       "    .dataframe tbody tr th:only-of-type {\n",
       "        vertical-align: middle;\n",
       "    }\n",
       "\n",
       "    .dataframe tbody tr th {\n",
       "        vertical-align: top;\n",
       "    }\n",
       "\n",
       "    .dataframe thead th {\n",
       "        text-align: right;\n",
       "    }\n",
       "</style>\n",
       "<table border=\"1\" class=\"dataframe\">\n",
       "  <thead>\n",
       "    <tr style=\"text-align: right;\">\n",
       "      <th></th>\n",
       "      <th>c1</th>\n",
       "      <th>c2</th>\n",
       "      <th>c3</th>\n",
       "      <th>y</th>\n",
       "    </tr>\n",
       "  </thead>\n",
       "  <tbody>\n",
       "    <tr>\n",
       "      <td>0</td>\n",
       "      <td>1.0</td>\n",
       "      <td>0.00000</td>\n",
       "      <td>0.000000</td>\n",
       "      <td>0.795292</td>\n",
       "    </tr>\n",
       "    <tr>\n",
       "      <td>1</td>\n",
       "      <td>1.0</td>\n",
       "      <td>0.10101</td>\n",
       "      <td>0.010203</td>\n",
       "      <td>1.591075</td>\n",
       "    </tr>\n",
       "    <tr>\n",
       "      <td>2</td>\n",
       "      <td>1.0</td>\n",
       "      <td>0.20202</td>\n",
       "      <td>0.040812</td>\n",
       "      <td>0.908885</td>\n",
       "    </tr>\n",
       "    <tr>\n",
       "      <td>3</td>\n",
       "      <td>1.0</td>\n",
       "      <td>0.30303</td>\n",
       "      <td>0.091827</td>\n",
       "      <td>1.392846</td>\n",
       "    </tr>\n",
       "    <tr>\n",
       "      <td>4</td>\n",
       "      <td>1.0</td>\n",
       "      <td>0.40404</td>\n",
       "      <td>0.163249</td>\n",
       "      <td>4.638671</td>\n",
       "    </tr>\n",
       "  </tbody>\n",
       "</table>\n",
       "</div>"
      ],
      "text/plain": [
       "    c1       c2        c3         y\n",
       "0  1.0  0.00000  0.000000  0.795292\n",
       "1  1.0  0.10101  0.010203  1.591075\n",
       "2  1.0  0.20202  0.040812  0.908885\n",
       "3  1.0  0.30303  0.091827  1.392846\n",
       "4  1.0  0.40404  0.163249  4.638671"
      ]
     },
     "execution_count": 187,
     "metadata": {},
     "output_type": "execute_result"
    }
   ],
   "source": [
    "data = pd.DataFrame(X, columns = ['c1','c2','c3'])\n",
    "data['y'] = y\n",
    "data.head(5)"
   ]
  },
  {
   "cell_type": "markdown",
   "metadata": {},
   "source": [
    "##  2-4 statsmodel을 활용하여 c1, c2, c3에 대한 data의 회귀 모델을 구하고 회귀 결과 객체를 반환한 값을 final에 저장하라, 또 final의 매개변수와 tvalue를 모두 출력하라"
   ]
  },
  {
   "cell_type": "code",
   "execution_count": 196,
   "metadata": {},
   "outputs": [],
   "source": [
    "final = smf.ols('y~c1+c2+c3', data=data).fit()"
   ]
  },
  {
   "cell_type": "code",
   "execution_count": 197,
   "metadata": {},
   "outputs": [
    {
     "data": {
      "text/plain": [
       "Intercept     0.785548\n",
       "c1            0.785548\n",
       "c2           -0.249477\n",
       "c3           10.036115\n",
       "dtype: float64"
      ]
     },
     "execution_count": 197,
     "metadata": {},
     "output_type": "execute_result"
    }
   ],
   "source": [
    "final.params"
   ]
  },
  {
   "cell_type": "code",
   "execution_count": 198,
   "metadata": {},
   "outputs": [
    {
     "data": {
      "text/plain": [
       "Intercept      5.274937\n",
       "c1             5.274937\n",
       "c2            -1.812336\n",
       "c3           753.455972\n",
       "dtype: float64"
      ]
     },
     "execution_count": 198,
     "metadata": {},
     "output_type": "execute_result"
    }
   ],
   "source": [
    "final.tvalues"
   ]
  },
  {
   "cell_type": "markdown",
   "metadata": {},
   "source": [
    "# 3번"
   ]
  },
  {
   "cell_type": "markdown",
   "metadata": {},
   "source": [
    "## 3-1 train 데이터와 test데이터를 불러와 각각 train과 test에 저장하시오"
   ]
  },
  {
   "cell_type": "code",
   "execution_count": 199,
   "metadata": {},
   "outputs": [],
   "source": [
    "train = pd.read_csv('ch13train.csv')"
   ]
  },
  {
   "cell_type": "code",
   "execution_count": 200,
   "metadata": {},
   "outputs": [],
   "source": [
    "test = pd.read_csv('ch13test.csv')"
   ]
  },
  {
   "cell_type": "markdown",
   "metadata": {},
   "source": [
    "## 3-2 데이터에 결측치가 있는지 확인하고 결측치를 각 열의 평균값으로 대체하시오  \n",
    "### (past_login_total만 결측치 채우시면 됩니다)"
   ]
  },
  {
   "cell_type": "code",
   "execution_count": 203,
   "metadata": {},
   "outputs": [
    {
     "data": {
      "text/plain": [
       "person_id               0\n",
       "Sex                     0\n",
       "past_login_total      160\n",
       "past_1_month_login    160\n",
       "past_1_week_login     160\n",
       "sub_size                0\n",
       "email_type              0\n",
       "phone_rat               0\n",
       "apple_rat               0\n",
       "login                   0\n",
       "dtype: int64"
      ]
     },
     "execution_count": 203,
     "metadata": {},
     "output_type": "execute_result"
    }
   ],
   "source": [
    "train.isnull().sum()"
   ]
  },
  {
   "cell_type": "code",
   "execution_count": 204,
   "metadata": {},
   "outputs": [
    {
     "data": {
      "text/plain": [
       "person_id              0\n",
       "Sex                    0\n",
       "past_login_total      67\n",
       "past_1_month_login    67\n",
       "past_1_week_login     67\n",
       "sub_size               0\n",
       "email_type             0\n",
       "phone_rat              0\n",
       "apple_rat              0\n",
       "dtype: int64"
      ]
     },
     "execution_count": 204,
     "metadata": {},
     "output_type": "execute_result"
    }
   ],
   "source": [
    "test.isnull().sum()"
   ]
  },
  {
   "cell_type": "code",
   "execution_count": 206,
   "metadata": {},
   "outputs": [],
   "source": [
    "impute_value = train['past_login_total'].mean()\n",
    "train['past_login_total'] = train['past_login_total'].fillna(impute_value)\n",
    "test['past_login_total'] = test['past_login_total'].fillna(impute_value)"
   ]
  },
  {
   "cell_type": "markdown",
   "metadata": {},
   "source": [
    "## 3-3 결측치가 잘 채워졌는지 확인하시오"
   ]
  },
  {
   "cell_type": "code",
   "execution_count": 207,
   "metadata": {},
   "outputs": [
    {
     "data": {
      "text/plain": [
       "person_id               0\n",
       "Sex                     0\n",
       "past_login_total        0\n",
       "past_1_month_login    160\n",
       "past_1_week_login     160\n",
       "sub_size                0\n",
       "email_type              0\n",
       "phone_rat               0\n",
       "apple_rat               0\n",
       "login                   0\n",
       "dtype: int64"
      ]
     },
     "execution_count": 207,
     "metadata": {},
     "output_type": "execute_result"
    }
   ],
   "source": [
    "train.isnull().sum()"
   ]
  },
  {
   "cell_type": "code",
   "execution_count": 208,
   "metadata": {},
   "outputs": [
    {
     "data": {
      "text/plain": [
       "person_id              0\n",
       "Sex                    0\n",
       "past_login_total       0\n",
       "past_1_month_login    67\n",
       "past_1_week_login     67\n",
       "sub_size               0\n",
       "email_type             0\n",
       "phone_rat              0\n",
       "apple_rat              0\n",
       "dtype: int64"
      ]
     },
     "execution_count": 208,
     "metadata": {},
     "output_type": "execute_result"
    }
   ],
   "source": [
    "test.isnull().sum()"
   ]
  },
  {
   "cell_type": "markdown",
   "metadata": {},
   "source": [
    "## 3-4 train 데이터와 test 데이터에 모두 female 열을 추가해 Sex 컬럼을 숫자로 더미화 하시오"
   ]
  },
  {
   "cell_type": "code",
   "execution_count": 210,
   "metadata": {},
   "outputs": [],
   "source": [
    "train['female'] = (train['Sex'] == 'female').astype(int)"
   ]
  },
  {
   "cell_type": "code",
   "execution_count": 211,
   "metadata": {},
   "outputs": [],
   "source": [
    "test['female'] = (test['Sex'] == 'female').astype(int)"
   ]
  },
  {
   "cell_type": "markdown",
   "metadata": {},
   "source": [
    "## 3-5 train 데이터와 test 데이터에서 'female'과 'past_login_total' 컬럼만 뽑아 해당 value값을 각각 trainc와 testc에 저장하시오"
   ]
  },
  {
   "cell_type": "code",
   "execution_count": 214,
   "metadata": {},
   "outputs": [],
   "source": [
    "predictors = ['female','past_login_total']"
   ]
  },
  {
   "cell_type": "code",
   "execution_count": 215,
   "metadata": {},
   "outputs": [],
   "source": [
    "trainc = train[predictors].values\n",
    "testc = test[predictors].values"
   ]
  },
  {
   "cell_type": "markdown",
   "metadata": {},
   "source": [
    "## 3-6 train데이터에서 'login' 컬럼을 뽑아 해당 value값을 trainy에 저장하시오"
   ]
  },
  {
   "cell_type": "code",
   "execution_count": 216,
   "metadata": {},
   "outputs": [],
   "source": [
    "trainy = train['login'].values"
   ]
  },
  {
   "cell_type": "markdown",
   "metadata": {},
   "source": [
    "## 3-7 trainc와 trainy를 사용하여 교차검증을 하시오 (정규화 인자=7)"
   ]
  },
  {
   "cell_type": "code",
   "execution_count": 217,
   "metadata": {},
   "outputs": [],
   "source": [
    "from sklearn.linear_model import LogisticRegressionCV"
   ]
  },
  {
   "cell_type": "code",
   "execution_count": 218,
   "metadata": {},
   "outputs": [],
   "source": [
    "model_cv = LogisticRegressionCV(7)"
   ]
  },
  {
   "cell_type": "code",
   "execution_count": 220,
   "metadata": {},
   "outputs": [
    {
     "name": "stderr",
     "output_type": "stream",
     "text": [
      "C:\\Users\\danan\\Anaconda3\\lib\\site-packages\\sklearn\\model_selection\\_split.py:1978: FutureWarning: The default value of cv will change from 3 to 5 in version 0.22. Specify it explicitly to silence this warning.\n",
      "  warnings.warn(CV_WARNING, FutureWarning)\n"
     ]
    },
    {
     "data": {
      "text/plain": [
       "LogisticRegressionCV(Cs=7, class_weight=None, cv='warn', dual=False,\n",
       "                     fit_intercept=True, intercept_scaling=1.0, l1_ratios=None,\n",
       "                     max_iter=100, multi_class='warn', n_jobs=None,\n",
       "                     penalty='l2', random_state=None, refit=True, scoring=None,\n",
       "                     solver='lbfgs', tol=0.0001, verbose=0)"
      ]
     },
     "execution_count": 220,
     "metadata": {},
     "output_type": "execute_result"
    }
   ],
   "source": [
    "model_cv.fit(trainc, trainy)"
   ]
  },
  {
   "cell_type": "markdown",
   "metadata": {},
   "source": [
    "# 보너스"
   ]
  },
  {
   "cell_type": "markdown",
   "metadata": {},
   "source": [
    "## 1. 첫 번째 행의 'firm'열의 값을 two에 저장하시오 (hint : loc[])"
   ]
  },
  {
   "cell_type": "code",
   "execution_count": 221,
   "metadata": {},
   "outputs": [],
   "source": [
    "one = sm.datasets.grunfeld.load_pandas().data"
   ]
  },
  {
   "cell_type": "code",
   "execution_count": 222,
   "metadata": {},
   "outputs": [],
   "source": [
    "two = one.loc[1,'firm']"
   ]
  },
  {
   "cell_type": "code",
   "execution_count": 223,
   "metadata": {},
   "outputs": [
    {
     "data": {
      "text/plain": [
       "'General Motors'"
      ]
     },
     "execution_count": 223,
     "metadata": {},
     "output_type": "execute_result"
    }
   ],
   "source": [
    "two"
   ]
  },
  {
   "cell_type": "markdown",
   "metadata": {},
   "source": [
    "## 2. invest, capital, firm, year에 대한 value의 회귀 모델를 구하시오(결측치 제거하셔야 합니다)"
   ]
  },
  {
   "cell_type": "code",
   "execution_count": 228,
   "metadata": {},
   "outputs": [
    {
     "data": {
      "text/plain": [
       "invest     0\n",
       "value      0\n",
       "capital    0\n",
       "firm       0\n",
       "year       0\n",
       "dtype: int64"
      ]
     },
     "execution_count": 228,
     "metadata": {},
     "output_type": "execute_result"
    }
   ],
   "source": [
    "one.isnull().sum()"
   ]
  },
  {
   "cell_type": "code",
   "execution_count": 237,
   "metadata": {},
   "outputs": [],
   "source": [
    "y, X = patsy.dmatrices('value ~ invest + capital + C(firm) + year', one)"
   ]
  },
  {
   "cell_type": "code",
   "execution_count": 238,
   "metadata": {},
   "outputs": [
    {
     "name": "stdout",
     "output_type": "stream",
     "text": [
      "                            OLS Regression Results                            \n",
      "==============================================================================\n",
      "Dep. Variable:                  value   R-squared:                       0.963\n",
      "Model:                            OLS   Adj. R-squared:                  0.961\n",
      "Method:                 Least Squares   F-statistic:                     414.8\n",
      "Date:                Thu, 12 Mar 2020   Prob (F-statistic):          7.45e-140\n",
      "Time:                        20:38:48   Log-Likelihood:                -1523.7\n",
      "No. Observations:                 220   AIC:                             3075.\n",
      "Df Residuals:                     206   BIC:                             3123.\n",
      "Df Model:                          13                                         \n",
      "Covariance Type:            nonrobust                                         \n",
      "================================================================================================\n",
      "                                   coef    std err          t      P>|t|      [0.025      0.975]\n",
      "------------------------------------------------------------------------------------------------\n",
      "Intercept                     -1.42e+04   7597.827     -1.869      0.063   -2.92e+04     778.647\n",
      "C(firm)[T.Atlantic Refining]   289.9657     97.064      2.987      0.003      98.599     481.332\n",
      "C(firm)[T.Chrysler]            437.1456     82.464      5.301      0.000     274.565     599.727\n",
      "C(firm)[T.Diamond Match]       -16.7591     81.004     -0.207      0.836    -176.462     142.944\n",
      "C(firm)[T.General Electric]   1822.8456     87.944     20.727      0.000    1649.460    1996.231\n",
      "C(firm)[T.General Motors]     2888.3048    146.570     19.706      0.000    2599.335    3177.274\n",
      "C(firm)[T.Goodyear]            325.4337     85.533      3.805      0.000     156.801     494.067\n",
      "C(firm)[T.IBM]                 243.1412     81.210      2.994      0.003      83.032     403.251\n",
      "C(firm)[T.US Steel]            874.1971    124.323      7.032      0.000     629.088    1119.306\n",
      "C(firm)[T.Union Oil]           136.0613     86.086      1.581      0.116     -33.661     305.784\n",
      "C(firm)[T.Westinghouse]        518.7352     80.982      6.406      0.000     359.076     678.395\n",
      "invest                           2.9502      0.296      9.982      0.000       2.367       3.533\n",
      "capital                         -0.6643      0.157     -4.235      0.000      -0.974      -0.355\n",
      "year                             7.3455      3.910      1.879      0.062      -0.363      15.054\n",
      "==============================================================================\n",
      "Omnibus:                       47.503   Durbin-Watson:                   1.520\n",
      "Prob(Omnibus):                  0.000   Jarque-Bera (JB):              338.642\n",
      "Skew:                           0.565   Prob(JB):                     2.92e-74\n",
      "Kurtosis:                       8.972   Cond. No.                     8.71e+05\n",
      "==============================================================================\n",
      "\n",
      "Warnings:\n",
      "[1] Standard Errors assume that the covariance matrix of the errors is correctly specified.\n",
      "[2] The condition number is large, 8.71e+05. This might indicate that there are\n",
      "strong multicollinearity or other numerical problems.\n"
     ]
    }
   ],
   "source": [
    "model = sm.OLS(y, X)\n",
    "result = model.fit()\n",
    "print(result.summary())"
   ]
  }
 ],
 "metadata": {
  "kernelspec": {
   "display_name": "Python 3",
   "language": "python",
   "name": "python3"
  },
  "language_info": {
   "codemirror_mode": {
    "name": "ipython",
    "version": 3
   },
   "file_extension": ".py",
   "mimetype": "text/x-python",
   "name": "python",
   "nbconvert_exporter": "python",
   "pygments_lexer": "ipython3",
   "version": "3.7.4"
  }
 },
 "nbformat": 4,
 "nbformat_minor": 2
}
