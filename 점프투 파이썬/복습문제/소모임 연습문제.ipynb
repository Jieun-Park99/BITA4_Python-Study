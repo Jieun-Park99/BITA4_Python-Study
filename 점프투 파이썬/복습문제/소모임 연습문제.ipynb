{
 "cells": [
  {
   "cell_type": "markdown",
   "metadata": {},
   "source": [
    "# 2-3장 복습문제"
   ]
  },
  {
   "cell_type": "markdown",
   "metadata": {},
   "source": [
    "# 1번"
   ]
  },
  {
   "cell_type": "code",
   "execution_count": 59,
   "metadata": {},
   "outputs": [
    {
     "name": "stdout",
     "output_type": "stream",
     "text": [
      "*   정수   *\n",
      "[777]\n",
      "[       777]\n",
      "[       777]\n",
      "[777       ]\n",
      "[   777    ]\n"
     ]
    }
   ],
   "source": [
    "# format 함수를 이용해서 다음과 같이 출력하세요.\n",
    "print(  '*   정수   *')\n",
    "\n",
    "print('[{:d}]'.format(777))\n",
    "print('[{:10}]'.format(777))\n",
    "print('[{:>10}]'.format(777))\n",
    "print('[{:<10}]'.format(777))\n",
    "print('[{:^10}]'.format(777))"
   ]
  },
  {
   "cell_type": "markdown",
   "metadata": {},
   "source": [
    "# 2번"
   ]
  },
  {
   "cell_type": "code",
   "execution_count": 1,
   "metadata": {},
   "outputs": [
    {
     "name": "stdout",
     "output_type": "stream",
     "text": [
      "    *     \n",
      "   ***    \n",
      "  *****   \n",
      " *******  \n",
      "********* \n",
      "********* \n",
      " *******  \n",
      "  *****   \n",
      "   ***    \n",
      "    *     \n"
     ]
    }
   ],
   "source": [
    "# 2. for문을 이용해서 다음과 같이 출력하세요. (별찍기1)\n",
    "\n",
    "for i in range(10) :\n",
    "    if i %2==0 :\n",
    "        continue\n",
    "    else: print('{:^10}'.format('*'*i))  \n",
    "for i in range(9,0,-2) :\n",
    "    if i %2==0 :\n",
    "        continue\n",
    "    else: print('{:^10}'.format('*'*i))  \n",
    "                \n",
    "    "
   ]
  },
  {
   "cell_type": "markdown",
   "metadata": {},
   "source": [
    "# 3번"
   ]
  },
  {
   "cell_type": "code",
   "execution_count": 7,
   "metadata": {},
   "outputs": [
    {
     "name": "stdout",
     "output_type": "stream",
     "text": [
      "********* \n",
      " *******  \n",
      "  *****   \n",
      "   ***    \n",
      "    *     \n",
      "   ***    \n",
      "  *****   \n",
      " *******  \n",
      "********* \n"
     ]
    }
   ],
   "source": [
    "#3. for 문과 format함수를 사용하여 다음과 같이 출력하세요.(별찍기2)\n",
    "\n",
    "for i in range(9,0,-2) :\n",
    "    print('{:^10}'.format(\"*\"*i))\n",
    "\n",
    "for i in range(3,11,2):\n",
    "    print('{:^10}'.format('*'*i))\n"
   ]
  },
  {
   "cell_type": "markdown",
   "metadata": {},
   "source": [
    "# 4번"
   ]
  },
  {
   "cell_type": "code",
   "execution_count": 3,
   "metadata": {},
   "outputs": [
    {
     "name": "stdout",
     "output_type": "stream",
     "text": [
      "{1, 2, 3, 4, 5, 'Hellp, Python'}\n",
      "{1, 2, 3, 4, 5}\n",
      "15\n"
     ]
    }
   ],
   "source": [
    "#4. 문자열을 set에서 삭제한후 데이터 합을 구하시오 mySet={1, 2, 3, 4, 5, 'Hellp, Python'}\n",
    "\n",
    "mySet={1,2,3,4,5,'Hellp, Python'}\n",
    "print(mySet)\n",
    "\n",
    "newSet=set()\n",
    "\n",
    "for i in mySet:\n",
    "    if str(i).isdigit():\n",
    "        newSet.add(i)\n",
    "print(newSet)\n",
    "result=sum(newSet)\n",
    "print(result)"
   ]
  },
  {
   "cell_type": "markdown",
   "metadata": {},
   "source": [
    "# 5번"
   ]
  },
  {
   "cell_type": "code",
   "execution_count": 1,
   "metadata": {},
   "outputs": [
    {
     "name": "stdout",
     "output_type": "stream",
     "text": [
      "< 2 단 >\n",
      "2 * 1 = 2\n",
      "2 * 2 = 4\n",
      "2 * 3 = 6\n",
      "2 * 4 = 8\n",
      "2 * 5 = 10\n",
      "2 * 6 = 12\n",
      "2 * 7 = 14\n",
      "2 * 8 = 16\n",
      "2 * 9 = 18\n",
      "\n",
      "< 3 단 >\n",
      "3 * 1 = 3\n",
      "3 * 2 = 6\n",
      "3 * 3 = 9\n",
      "3 * 4 = 12\n",
      "3 * 5 = 15\n",
      "3 * 6 = 18\n",
      "3 * 7 = 21\n",
      "3 * 8 = 24\n",
      "3 * 9 = 27\n",
      "\n",
      "< 4 단 >\n",
      "4 * 1 = 4\n",
      "4 * 2 = 8\n",
      "4 * 3 = 12\n",
      "4 * 4 = 16\n",
      "4 * 5 = 20\n",
      "4 * 6 = 24\n",
      "4 * 7 = 28\n",
      "4 * 8 = 32\n",
      "4 * 9 = 36\n",
      "\n",
      "< 5 단 >\n",
      "5 * 1 = 5\n",
      "5 * 2 = 10\n",
      "5 * 3 = 15\n",
      "5 * 4 = 20\n",
      "5 * 5 = 25\n",
      "5 * 6 = 30\n",
      "5 * 7 = 35\n",
      "5 * 8 = 40\n",
      "5 * 9 = 45\n",
      "\n",
      "< 6 단 >\n",
      "6 * 1 = 6\n",
      "6 * 2 = 12\n",
      "6 * 3 = 18\n",
      "6 * 4 = 24\n",
      "6 * 5 = 30\n",
      "6 * 6 = 36\n",
      "6 * 7 = 42\n",
      "6 * 8 = 48\n",
      "6 * 9 = 54\n",
      "\n",
      "< 7 단 >\n",
      "7 * 1 = 7\n",
      "7 * 2 = 14\n",
      "7 * 3 = 21\n",
      "7 * 4 = 28\n",
      "7 * 5 = 35\n",
      "7 * 6 = 42\n",
      "7 * 7 = 49\n",
      "7 * 8 = 56\n",
      "7 * 9 = 63\n",
      "\n",
      "< 8 단 >\n",
      "8 * 1 = 8\n",
      "8 * 2 = 16\n",
      "8 * 3 = 24\n",
      "8 * 4 = 32\n",
      "8 * 5 = 40\n",
      "8 * 6 = 48\n",
      "8 * 7 = 56\n",
      "8 * 8 = 64\n",
      "8 * 9 = 72\n",
      "\n",
      "< 9 단 >\n",
      "9 * 1 = 9\n",
      "9 * 2 = 18\n",
      "9 * 3 = 27\n",
      "9 * 4 = 36\n",
      "9 * 5 = 45\n",
      "9 * 6 = 54\n",
      "9 * 7 = 63\n",
      "9 * 8 = 72\n",
      "9 * 9 = 81\n",
      "\n"
     ]
    }
   ],
   "source": [
    "#5. while을 이용하여 2~9단의 곱셈을 만드세요.\n",
    "\n",
    "num = 2\n",
    "\n",
    "while num < 10:\n",
    "    x = 1\n",
    "    print('<', num, '단', '>')\n",
    "    while x < 10:\n",
    "        print(num, '*', x, '=', num*x )\n",
    "        x += 1\n",
    "    num += 1\n",
    "    print()"
   ]
  },
  {
   "cell_type": "markdown",
   "metadata": {},
   "source": [
    "# 6번"
   ]
  },
  {
   "cell_type": "code",
   "execution_count": 3,
   "metadata": {},
   "outputs": [
    {
     "name": "stdout",
     "output_type": "stream",
     "text": [
      "In: 강동구 노원구 용산구 상암동 서울시 논현동 평창동 중구\n",
      "상암동\n",
      "논현동\n",
      "평창동\n"
     ]
    }
   ],
   "source": [
    "# 구이름과 동이름을 입력 받아 그 중 동이름만 출력하는 프로그램을 만드세요 \n",
    "# (input과 split 활용)\n",
    "\n",
    "where = input(\"In: \").split()\n",
    "\n",
    "for x in where:\n",
    "    if x[-1] == '동': print(x)"
   ]
  },
  {
   "cell_type": "markdown",
   "metadata": {},
   "source": [
    "# 7번 \n",
    "### (좀 더 현실감을 주기 위해 환불하는 것을 추가해 봤습니다)"
   ]
  },
  {
   "cell_type": "code",
   "execution_count": 6,
   "metadata": {},
   "outputs": [
    {
     "name": "stdout",
     "output_type": "stream",
     "text": [
      "동전을 넣으세요: 2500\n",
      "현재 금액:  2500 원\n",
      "음료를 선택하세요 (콜라: 0, 사이다: 1, 환타: 2): 0\n",
      "콜라가 나왔습니다.\n",
      "\n",
      "현재 금액:  2000 원\n",
      "음료를 선택하세요 (콜라: 0, 사이다: 1, 환타: 2): 1\n",
      "사이다가 나왔습니다\n",
      "\n",
      "현재 금액:  1500 원\n",
      "음료를 선택하세요 (콜라: 0, 사이다: 1, 환타: 2): 2\n",
      "환타가 나왔습니다\n",
      "\n",
      "현재 금액:  1000 원\n",
      "음료를 선택하세요 (콜라: 0, 사이다: 1, 환타: 2): 3\n",
      "돈이 환불됩니다\n",
      "\n",
      "거스름돈: 1000 원\n"
     ]
    }
   ],
   "source": [
    "# 음료수 자판기를 만드세요. \n",
    "# 입력 금액에 따라 음료가 나오는 자판기 프로그램을 작성하세요.\n",
    "\n",
    "coin = int(input('동전을 넣으세요: '))\n",
    "\n",
    "while coin >=500 : \n",
    "    print('현재 금액: ',coin,'원')\n",
    "    n = int(input('음료를 선택하세요 (콜라: 0, 사이다: 1, 환타: 2): '))\n",
    "    if n == 0 : print('콜라가 나왔습니다.')\n",
    "    elif n == 1 : print('사이다가 나왔습니다')\n",
    "    elif n == 2: print('환타가 나왔습니다')\n",
    "    elif n == 3: \n",
    "        print('돈이 환불됩니다')\n",
    "        break\n",
    "    else : \n",
    "        print('잘못 누르셨습니다')\n",
    "        continue\n",
    "    print()\n",
    "    coin -= 500    \n",
    "print()\n",
    "print('거스름돈:', coin,'원')\n",
    "        "
   ]
  },
  {
   "cell_type": "markdown",
   "metadata": {},
   "source": [
    "### LIST를 이용하여 풀 수도 있습니다."
   ]
  },
  {
   "cell_type": "code",
   "execution_count": 7,
   "metadata": {
    "scrolled": false
   },
   "outputs": [
    {
     "name": "stdout",
     "output_type": "stream",
     "text": [
      "동전을 넣으세요: 2500\n",
      "\n",
      "현재 금액: 2500 원\n",
      "콜라(0), 사이다(1), 환타(2), 잔돈(3): 0\n",
      "콜라 나왔습니다\n",
      "\n",
      "현재 금액: 2000 원\n",
      "콜라(0), 사이다(1), 환타(2), 잔돈(3): 1\n",
      "사이다 나왔습니다\n",
      "\n",
      "현재 금액: 1500 원\n",
      "콜라(0), 사이다(1), 환타(2), 잔돈(3): 3\n",
      "잔돈 나왔습니다\n",
      "거스름돈: 1500 원\n"
     ]
    }
   ],
   "source": [
    "drinks = ['콜라', '사이다','환타','잔돈']\n",
    "coin = int(input(\"동전을 넣으세요: \"))\n",
    "while coin >= 500:\n",
    "    print(\"\\n현재 금액:\", coin, \"원\")\n",
    "    sel = int(input(\"콜라(0), 사이다(1), 환타(2), 잔돈(3): \"))\n",
    "    if sel == 3:\n",
    "        print(drinks[sel]+\" 나왔습니다\")\n",
    "        break\n",
    "    print(drinks[sel]+' 나왔습니다')\n",
    "    coin -= 500\n",
    "print(\"거스름돈:\",coin,\"원\")"
   ]
  }
 ],
 "metadata": {
  "kernelspec": {
   "display_name": "Python 3",
   "language": "python",
   "name": "python3"
  },
  "language_info": {
   "codemirror_mode": {
    "name": "ipython",
    "version": 3
   },
   "file_extension": ".py",
   "mimetype": "text/x-python",
   "name": "python",
   "nbconvert_exporter": "python",
   "pygments_lexer": "ipython3",
   "version": "3.7.3"
  }
 },
 "nbformat": 4,
 "nbformat_minor": 2
}
